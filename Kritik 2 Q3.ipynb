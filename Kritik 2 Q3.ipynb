{
 "cells": [
  {
   "cell_type": "code",
   "execution_count": 23,
   "id": "805df1cf-2ab3-475b-8e22-f1ac488e2b7a",
   "metadata": {},
   "outputs": [
    {
     "name": "stdout",
     "output_type": "stream",
     "text": [
      "skrt\n"
     ]
    },
    {
     "data": {
      "text/plain": [
       "0"
      ]
     },
     "execution_count": 23,
     "metadata": {},
     "output_type": "execute_result"
    }
   ],
   "source": [
    "import numpy as np\n",
    "def funny(x):\n",
    "    if x<=-1:\n",
    "        return 0\n",
    "    elif x>=1:\n",
    "        return 0\n",
    "    else:\n",
    "        return np.exp(1-(1/(1-x**(10**250))))\n",
    "\n",
    "funny(-0.999999)  "
   ]
  },
  {
   "cell_type": "code",
   "execution_count": 32,
   "id": "64983862-8509-4eae-b505-1eb76e25835a",
   "metadata": {},
   "outputs": [
    {
     "data": {
      "text/plain": [
       "7.38905609893065"
      ]
     },
     "execution_count": 32,
     "metadata": {},
     "output_type": "execute_result"
    }
   ],
   "source": [
    "import numpy as np\n",
    "def funny(x):\n",
    "    if x<=-1:\n",
    "        return 0\n",
    "    elif x>=1:\n",
    "        return 0\n",
    "    else:\n",
    "        return np.exp(1-(-1/(1-x**(10**250))))\n",
    "\n",
    "funny(0.9)  "
   ]
  },
  {
   "cell_type": "code",
   "execution_count": null,
   "id": "c72f90e0-e565-400d-a954-61e656097e75",
   "metadata": {},
   "outputs": [],
   "source": []
  }
 ],
 "metadata": {
  "kernelspec": {
   "display_name": "Python 3 (ipykernel)",
   "language": "python",
   "name": "python3"
  },
  "language_info": {
   "codemirror_mode": {
    "name": "ipython",
    "version": 3
   },
   "file_extension": ".py",
   "mimetype": "text/x-python",
   "name": "python",
   "nbconvert_exporter": "python",
   "pygments_lexer": "ipython3",
   "version": "3.11.4"
  }
 },
 "nbformat": 4,
 "nbformat_minor": 5
}
