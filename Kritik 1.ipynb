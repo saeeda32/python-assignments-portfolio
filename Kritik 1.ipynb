{
 "cells": [
  {
   "cell_type": "code",
   "execution_count": 10,
   "id": "b8dee207-a7d7-4255-b313-7f15cfe0029c",
   "metadata": {},
   "outputs": [
    {
     "name": "stdout",
     "output_type": "stream",
     "text": [
      "Error!\n",
      "0.0 1 0.0\n",
      "0.25 3 8.719308035714285e-06\n",
      "0.5 5 4.438920454545455e-05\n",
      "0.75 11 5.816761029294689e-05\n",
      "1.0 5000 9.999000099990002e-05\n"
     ]
    }
   ],
   "source": [
    "def gregory(x): \n",
    "    if 0<=x<=1: \n",
    "        fsr=True\n",
    "        n=1\n",
    "        while fsr == True: \n",
    "            a=0\n",
    "            for i in range(n):\n",
    "                a = (((-1)**i)*(x**(2*i+1))/(2*i+1))\n",
    "                error_bound = (x**(2*n+1)/(2*n+1))\n",
    "                if error_bound <= 0.0001 and a == x: \n",
    "                    print(a, n, error_bound)\n",
    "                    fsr = False \n",
    "                    break \n",
    "                elif error_bound > 0.0001: \n",
    "                    n += 1\n",
    "    else: \n",
    "        print(\"Error!\") \n",
    "\n",
    "gregory(-1) \n",
    "gregory(0)\n",
    "gregory(0.25)\n",
    "gregory(0.5)\n",
    "gregory(0.75) \n",
    "gregory(1) "
   ]
  },
  {
   "cell_type": "code",
   "execution_count": null,
   "id": "7e4eae0d-fb60-4673-a027-859fd445bdb9",
   "metadata": {},
   "outputs": [],
   "source": []
  }
 ],
 "metadata": {
  "kernelspec": {
   "display_name": "Python 3 (ipykernel)",
   "language": "python",
   "name": "python3"
  },
  "language_info": {
   "codemirror_mode": {
    "name": "ipython",
    "version": 3
   },
   "file_extension": ".py",
   "mimetype": "text/x-python",
   "name": "python",
   "nbconvert_exporter": "python",
   "pygments_lexer": "ipython3",
   "version": "3.11.4"
  }
 },
 "nbformat": 4,
 "nbformat_minor": 5
}
