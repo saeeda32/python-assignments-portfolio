{
 "cells": [
  {
   "cell_type": "code",
   "execution_count": 6,
   "id": "3592e5c7-9308-4706-92d3-338ad956d6b1",
   "metadata": {},
   "outputs": [
    {
     "ename": "IndentationError",
     "evalue": "unindent does not match any outer indentation level (<tokenize>, line 19)",
     "output_type": "error",
     "traceback": [
      "\u001b[0;36m  File \u001b[0;32m<tokenize>:19\u001b[0;36m\u001b[0m\n\u001b[0;31m    if abs(f(x2)-L(x2)) == E:\u001b[0m\n\u001b[0m    ^\u001b[0m\n\u001b[0;31mIndentationError\u001b[0m\u001b[0;31m:\u001b[0m unindent does not match any outer indentation level\n"
     ]
    }
   ],
   "source": [
    "def greg(f, c, E): \n",
    "    x1 = c \n",
    "    x2 = c\n",
    "    delx = 10**(-8) \n",
    "    d=0.001\n",
    "    def fPrime(x): \n",
    "        return f(x+delx-f(x-delx))/(2*delx) \n",
    "    def L(x):\n",
    "        f(c)+fPrime(c)*(x-c)\n",
    "    for i in range(100): #can change 100 to larger number once yk it works \n",
    "        x1=x1-d\n",
    "        if abs(f(x1)-L(x1)) == E: \n",
    "            return x1 \n",
    "                x2 = x2 + d \n",
    "        else: \n",
    "            return \"No such x1 and x2 can be found.\" \n",
    "    for i in range(100): \n",
    "        x2=x2+d\n",
    "        if abs(f(x2)-L(x2)) == E: \n",
    "            return x2\n",
    "        else: \n",
    "            return \"No such x1 and x2 can be found.\" "
   ]
  },
  {
   "cell_type": "code",
   "execution_count": null,
   "id": "95250ad0-8f47-424b-8493-71845ccee2b2",
   "metadata": {},
   "outputs": [],
   "source": []
  }
 ],
 "metadata": {
  "kernelspec": {
   "display_name": "Python 3 (ipykernel)",
   "language": "python",
   "name": "python3"
  },
  "language_info": {
   "codemirror_mode": {
    "name": "ipython",
    "version": 3
   },
   "file_extension": ".py",
   "mimetype": "text/x-python",
   "name": "python",
   "nbconvert_exporter": "python",
   "pygments_lexer": "ipython3",
   "version": "3.11.4"
  }
 },
 "nbformat": 4,
 "nbformat_minor": 5
}
