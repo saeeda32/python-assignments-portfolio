{
 "cells": [
  {
   "cell_type": "code",
   "execution_count": 29,
   "id": "360527ea",
   "metadata": {},
   "outputs": [],
   "source": [
    "## Kritik Assignment no. 7!!"
   ]
  },
  {
   "cell_type": "code",
   "execution_count": 4,
   "id": "4c207a9f",
   "metadata": {},
   "outputs": [],
   "source": [
    "import numpy as np\n",
    "from scipy.special import gamma\n",
    "\n",
    "def t_distribution_pdf(x, nu):\n",
    "    \"\"\"\n",
    "    Compute the probability density of the t-distribution\n",
    "    at a given point x with nu degrees of freedom.\n",
    "    Parameters:\n",
    "    x (float): The point at which to evaluate the density.\n",
    "    nu (int): The degrees of freedom of the t-distribution.\n",
    "    Returns:\n",
    "    density (float): The probability density at point x for\n",
    "    the t-distribution with nu degrees of freedom.\n",
    "    \"\"\"\n",
    "    coeff = gamma((nu + 1) / 2) / (np.sqrt(nu * np.pi) * gamma(nu / 2))\n",
    "    density = coeff * (1 + x**2 / nu) ** (-0.5 * (nu + 1))\n",
    "    return density\n"
   ]
  },
  {
   "cell_type": "code",
   "execution_count": 5,
   "id": "b4ff052f",
   "metadata": {},
   "outputs": [
    {
     "ename": "NameError",
     "evalue": "name 'mean_std' is not defined",
     "output_type": "error",
     "traceback": [
      "\u001b[0;31m---------------------------------------------------------------------------\u001b[0m",
      "\u001b[0;31mNameError\u001b[0m                                 Traceback (most recent call last)",
      "Cell \u001b[0;32mIn[5], line 19\u001b[0m\n\u001b[1;32m     16\u001b[0m     standard \u001b[38;5;241m=\u001b[39m np\u001b[38;5;241m.\u001b[39msqrt((\u001b[38;5;241m1\u001b[39m\u001b[38;5;241m/\u001b[39m(\u001b[38;5;28mlen\u001b[39m(data)\u001b[38;5;241m-\u001b[39m\u001b[38;5;241m1\u001b[39m))\u001b[38;5;241m*\u001b[39msum_standard) \u001b[38;5;66;03m#the standard deviation value\u001b[39;00m\n\u001b[1;32m     17\u001b[0m     \u001b[38;5;28;01mreturn\u001b[39;00m mean, standard\n\u001b[0;32m---> 19\u001b[0m \u001b[38;5;28mprint\u001b[39m(\u001b[43mmean_std\u001b[49m(t_scores)) \u001b[38;5;66;03m#The average test score should be 82.382% +/- 10.193%\u001b[39;00m\n",
      "\u001b[0;31mNameError\u001b[0m: name 'mean_std' is not defined"
     ]
    }
   ],
   "source": [
    "t_scores = [92.64,79.00,84.79,97.41,93.68,65.23,84.50,73.49,73.97,79.11] #scores for tests out of 100\n",
    "\n",
    "#this function calculates the standard deviation and mean using data points\n",
    "\n",
    "sum_0 = 0 #intializing (mean) variable \n",
    "sum_standard = 0 #initializing (Standard Deviation) variable\n",
    "\n",
    "def mean_standard(data):\n",
    "    \n",
    "    for i in range(len(data)):\n",
    "        sum_0 += data[i]\n",
    "    mean = sum_0 / len(data) #the mean value\n",
    "    \n",
    "    for i in range(len(data)):\n",
    "        sum_standard += (data[i] - mean)**2\n",
    "    standard = np.sqrt((1/(len(data)-1))*sum_standard) #the standard deviation value\n",
    "    return mean, standard\n",
    "    \n",
    "print(mean_std(t_scores)) #The average test score should be 82.382% +/- 10.193%"
   ]
  },
  {
   "cell_type": "code",
   "execution_count": 6,
   "id": "a78b2e20",
   "metadata": {},
   "outputs": [
    {
     "ename": "NameError",
     "evalue": "name 'mean_std' is not defined",
     "output_type": "error",
     "traceback": [
      "\u001b[0;31m---------------------------------------------------------------------------\u001b[0m",
      "\u001b[0;31mNameError\u001b[0m                                 Traceback (most recent call last)",
      "Cell \u001b[0;32mIn[6], line 7\u001b[0m\n\u001b[1;32m      4\u001b[0m     t0 \u001b[38;5;241m=\u001b[39m ((mean_std(data)[\u001b[38;5;241m0\u001b[39m])\u001b[38;5;241m-\u001b[39mmu)\u001b[38;5;241m/\u001b[39m((mean_std(data)[\u001b[38;5;241m1\u001b[39m])\u001b[38;5;241m/\u001b[39mnp\u001b[38;5;241m.\u001b[39msqrt(\u001b[38;5;28mlen\u001b[39m(data)))\n\u001b[1;32m      5\u001b[0m     \u001b[38;5;28;01mreturn\u001b[39;00m t0\n\u001b[0;32m----> 7\u001b[0m \u001b[38;5;28mprint\u001b[39m(\u001b[43mt_0\u001b[49m\u001b[43m(\u001b[49m\u001b[38;5;241;43m75\u001b[39;49m\u001b[43m,\u001b[49m\u001b[43m \u001b[49m\u001b[43mt_scores\u001b[49m\u001b[43m)\u001b[49m) \u001b[38;5;66;03m#The null hypothesis is when mu = 75\u001b[39;00m\n",
      "Cell \u001b[0;32mIn[6], line 4\u001b[0m, in \u001b[0;36mt_0\u001b[0;34m(mu, data)\u001b[0m\n\u001b[1;32m      3\u001b[0m \u001b[38;5;28;01mdef\u001b[39;00m \u001b[38;5;21mt_0\u001b[39m(mu, data):\n\u001b[0;32m----> 4\u001b[0m     t0 \u001b[38;5;241m=\u001b[39m ((\u001b[43mmean_std\u001b[49m(data)[\u001b[38;5;241m0\u001b[39m])\u001b[38;5;241m-\u001b[39mmu)\u001b[38;5;241m/\u001b[39m((mean_std(data)[\u001b[38;5;241m1\u001b[39m])\u001b[38;5;241m/\u001b[39mnp\u001b[38;5;241m.\u001b[39msqrt(\u001b[38;5;28mlen\u001b[39m(data)))\n\u001b[1;32m      5\u001b[0m     \u001b[38;5;28;01mreturn\u001b[39;00m t0\n",
      "\u001b[0;31mNameError\u001b[0m: name 'mean_std' is not defined"
     ]
    }
   ],
   "source": [
    "#The t0 value is calculated based on a given µ and mean value. Note this was calculated using the function from the cell before.\n",
    "\n",
    "def t_0(mu, data):\n",
    "    t0 = ((mean_std(data)[0])-mu)/((mean_std(data)[1])/np.sqrt(len(data)))\n",
    "    return t0\n",
    "    \n",
    "print(t_0(75, t_scores)) #The null hypothesis is when mu = 75"
   ]
  },
  {
   "cell_type": "code",
   "execution_count": 10,
   "id": "7e11ee14",
   "metadata": {},
   "outputs": [
    {
     "name": "stdout",
     "output_type": "stream",
     "text": [
      "2.1821821821821823\n"
     ]
    }
   ],
   "source": [
    "def find_t_star(prob, nu, x_start=0, x_end=20, num_points=10000):\n",
    "    \"\"\"\n",
    "    Find the t-value t* for a given cumulative probability\n",
    "    and degrees of freedom.\n",
    "    Parameters:\n",
    "    prob (float): The cumulative probability (between 0 and 1).\n",
    "    nu (int): The degrees of freedom of the t-distribution.\n",
    "    x_start (float): The start point for numerical integration.\n",
    "    x_end (float): The end point for numerical integration.\n",
    "    20 will almost always be big enough.\n",
    "    num_points (int): The number of points to use in\n",
    "    the numerical integration.\n",
    "    Returns:\n",
    "    float: The t-value t* such that the area between [-t*, t*]\n",
    "    equals the given probability.\n",
    "    \"\"\"\n",
    "    \n",
    "    # Define the x values\n",
    "    x = np.linspace(x_start, x_end, num_points)\n",
    "    \n",
    "    # Apply the density function to the x values\n",
    "    y = t_distribution_pdf(x, nu)\n",
    "    \n",
    "    # This next line is the integration (exercise: why does this work?)\n",
    "    cdf = np.cumsum(y) * (x[1] - x[0])\n",
    "    \n",
    "    # Find the t-value where the cumulative probability reaches half of the\n",
    "    #required probability\n",
    "    target_half_prob = prob / 2\n",
    "    index = np.where(cdf >= target_half_prob)[0][0]\n",
    "    \n",
    "    return x[index]\n",
    "\n",
    "print(find_t_star(0.95, 9, x_start=0, x_end=20, num_points=1000)) # 0.95 is the probability (95%) and nu is n-1, so nu = 9"
   ]
  },
  {
   "cell_type": "code",
   "execution_count": 11,
   "id": "64c335bb",
   "metadata": {},
   "outputs": [
    {
     "name": "stdout",
     "output_type": "stream",
     "text": [
      "False\n"
     ]
    }
   ],
   "source": [
    "#The function figures out if t0 is on [-t*, t*] by comparing |t0| to |t*|. If |t0| > |t*| than t0 is not on [-t*, t*], and is |t0| < -t* or |t0| > t*.\n",
    "\n",
    "def true_false_dt(mu, data):\n",
    "  \n",
    "    t0_ = t_0(mu, data) # calculates the t0 value using 2nd cell\n",
    "    t_star_ = find_t_star(0.95, 9, x_start=0, x_end=20, num_points=1000) # calculates t* based on function from third cell\n",
    "    \n",
    "    if abs(t0_) > t_star_:\n",
    "        return \"False\"\n",
    "    else:\n",
    "        return \"True\"\n",
    "    \n",
    "print(true_false_dt(75, t_scores)) ## based on mu=75 (predicted / national average) and our set of test scores\n",
    "#tells us whether the average test score is different from the nation's average test score"
   ]
  },
  {
   "cell_type": "code",
   "execution_count": 6,
   "id": "6c775456",
   "metadata": {},
   "outputs": [
    {
     "data": {
      "text/plain": [
       "'\\n\\nFor the data given in the scenario, apply your homebrew t-test. What\\nis your conclusion? Can we conclude µ = 75? Based on the value of\\nt0, would you say that the statistical evidence suggests that the new\\nteaching techniques is beneficial, or detrimental?\\n\\n'"
      ]
     },
     "execution_count": 6,
     "metadata": {},
     "output_type": "execute_result"
    }
   ],
   "source": [
    "#Answer to iv)\n",
    "\n",
    "# I conclude µ =/= 75, based on the above t-test. This means the null hypothesis is incorrect, as the researcher expected, \n",
    "# the average for the students taught using his new teaching technique was very different than the national average. \n",
    "# Based on the t0 value, which is higher than t*, I've concluded that for students taught with this new technique, the average \n",
    "# is HIGHER than the national average, so it should be used more throughout the country."
   ]
  },
  {
   "cell_type": "code",
   "execution_count": null,
   "id": "8d19ef54",
   "metadata": {},
   "outputs": [],
   "source": []
  },
  {
   "cell_type": "code",
   "execution_count": null,
   "id": "153de157",
   "metadata": {},
   "outputs": [],
   "source": []
  }
 ],
 "metadata": {
  "kernelspec": {
   "display_name": "Python 3 (ipykernel)",
   "language": "python",
   "name": "python3"
  },
  "language_info": {
   "codemirror_mode": {
    "name": "ipython",
    "version": 3
   },
   "file_extension": ".py",
   "mimetype": "text/x-python",
   "name": "python",
   "nbconvert_exporter": "python",
   "pygments_lexer": "ipython3",
   "version": "3.11.4"
  }
 },
 "nbformat": 4,
 "nbformat_minor": 5
}
