{
 "cells": [
  {
   "cell_type": "code",
   "execution_count": 1,
   "id": "c02286f8-5cba-4d08-90d4-74095260d59c",
   "metadata": {},
   "outputs": [
    {
     "name": "stdout",
     "output_type": "stream",
     "text": [
      "(0.69, 1.31)\n",
      "(0.39539816339744827, 1.1253981633974484)\n",
      "(-0.11, 0.1)\n"
     ]
    }
   ],
   "source": [
    "import math\n",
    "import numpy as np\n",
    "def lin_approx(f,c,E):\n",
    "  derive_f = ((f(c + (10**-8)))- (f(c - (10**-8)))) / (2* (10**-8))\n",
    "  g = lambda x: f(c) + ((derive_f)*(x - c))\n",
    "  for i in range (100) :\n",
    "    x= (c+ (i*0.01))\n",
    "    if round (abs (g(x)- f(x)),2) == E:\n",
    "      x2 = x\n",
    "      break\n",
    "  for i in range(100) :\n",
    "    x = (c-(i*0.01))\n",
    "    if round (abs (g(x) - f(x)),2) == E:\n",
    "      x1 = x\n",
    "      break\n",
    "  try:\n",
    "    return x1, x2;\n",
    "  except UnboundLocalError: \n",
    "    return \"There is no such x1 and x2 within E of c\"\n",
    "\n",
    "f =lambda x: x**2\n",
    "\n",
    "print(lin_approx(f,1,0.1))\n",
    "\n",
    "f = lambda x: np.sin(x)\n",
    "\n",
    "print(lin_approx(f, np.pi/4, 0.05))\n",
    "\n",
    "f = lambda x: np.exp(x)\n",
    "print(lin_approx(f,0,0.01))"
   ]
  },
  {
   "cell_type": "code",
   "execution_count": null,
   "id": "03d7f866-d715-4aa5-b601-ce4f4189e062",
   "metadata": {},
   "outputs": [],
   "source": []
  },
  {
   "cell_type": "code",
   "execution_count": null,
   "id": "da736e54-fd00-4f04-a15e-b157ce70d4f6",
   "metadata": {},
   "outputs": [],
   "source": []
  }
 ],
 "metadata": {
  "kernelspec": {
   "display_name": "Python 3 (ipykernel)",
   "language": "python",
   "name": "python3"
  },
  "language_info": {
   "codemirror_mode": {
    "name": "ipython",
    "version": 3
   },
   "file_extension": ".py",
   "mimetype": "text/x-python",
   "name": "python",
   "nbconvert_exporter": "python",
   "pygments_lexer": "ipython3",
   "version": "3.11.4"
  }
 },
 "nbformat": 4,
 "nbformat_minor": 5
}
